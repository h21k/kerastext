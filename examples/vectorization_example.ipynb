{
 "cells": [
  {
   "cell_type": "code",
   "execution_count": 4,
   "metadata": {
    "collapsed": false
   },
   "outputs": [
    {
     "name": "stderr",
     "output_type": "stream",
     "text": [
      "Using Theano backend.\n",
      "WARNING (theano.configdefaults): Only clang++ is supported. With g++, we end up with strange g++/OSX bugs.\n"
     ]
    }
   ],
   "source": [
    "# keras CNN for text classification\n",
    "# with sklearn-style API + hyperopt\n",
    "\n",
    "from kerastext import KerasVectorizer"
   ]
  },
  {
   "cell_type": "code",
   "execution_count": 3,
   "metadata": {
    "collapsed": false
   },
   "outputs": [
    {
     "name": "stderr",
     "output_type": "stream",
     "text": [
      "/Users/iain/anaconda3/lib/python3.5/site-packages/IPython/core/interactiveshell.py:2723: DtypeWarning: Columns (1) have mixed types. Specify dtype option on import or set low_memory=False.\n",
      "  interactivity=interactivity, compiler=compiler, result=result)\n"
     ]
    }
   ],
   "source": [
    "# load some data\n",
    "\n",
    "import pandas as pd\n",
    "import numpy as np\n",
    "data = pd.read_csv('RCTDataClean.csv', encoding='latin-1')\n",
    "ab = [r if isinstance(r, str) else \"\" for r in list(data.AB)]\n",
    "ti = [r if isinstance(r, str) else \"\" for r in list(data.TI)]\n",
    "\n",
    "X_text = [r[0] + \"\\n\\n\" + r[1] for r in zip(ab, ti)]\n",
    "y = np.array(data.Relevant)    \n",
    "    "
   ]
  },
  {
   "cell_type": "code",
   "execution_count": 5,
   "metadata": {
    "collapsed": false
   },
   "outputs": [],
   "source": [
    "# get some embeddings from somewhere to use to initialise the CNN embedings\n",
    "from gensim.models import Word2Vec\n",
    "word_embeddings = Word2Vec.load_word2vec_format('PubMed-w2v.bin', binary=True)"
   ]
  },
  {
   "cell_type": "code",
   "execution_count": 6,
   "metadata": {
    "collapsed": false,
    "scrolled": true
   },
   "outputs": [],
   "source": [
    "# the vectorizer makes a subset of embeddings indexed correctly\n",
    "# alongside the text, pass the gensim to it when instantiating\n",
    "vec = KerasVectorizer(embedding_inits=word_embeddings)"
   ]
  },
  {
   "cell_type": "code",
   "execution_count": 7,
   "metadata": {
    "collapsed": false,
    "scrolled": false
   },
   "outputs": [],
   "source": [
    "X = vec.fit_transform(X_text)\n",
    "\n",
    "# this generates standard keras-style feature vectors for text, which is:\n",
    "# n*m matrix with n=number documents, and m=maximum token length across all documents\n",
    "# documents < maximum length are left-padded with 0's\n",
    "# 1 = start of sequence \n",
    "# 2 = out of vocabulary token (which only applys to later transforms, fit_transform learns the vocab so nothing is OOV)\n",
    "# 3+ = integer representing token index in order of frequency, for vocab size k, 3 represents most frequent token, 3+k represents least frequent "
   ]
  },
  {
   "cell_type": "code",
   "execution_count": 11,
   "metadata": {
    "collapsed": false
   },
   "outputs": [
    {
     "name": "stdout",
     "output_type": "stream",
     "text": [
      "Study design: A retrospective review of prospectively collected data in an academic institution. Objective: To evaluate the safety and efficacy of a new type of titanium mesh cage (TMC) in single-level, anterior cervical corpectomy and fusion (ACCF). Methods: Fifty-eight patients consecutive with cervical spondylotic myelopathy (CSM) from cervical degenerative spondylosis and isolated ossification of the posterior longitudinal ligament were treated with a single-level ACCF using either a new type of TMC (28 patients, group A) or the traditional TMC (30 patients, group B). We evaluated the patients for TMC subsidence, cervical lordosis (C2-C7 Cobb and Cobb of fused segments) and fusion status for a minimum of 30 months postoperatively based on spine radiographs. In addition, neurologic outcomes were evaluated using the Japanese Orthopedic Association (JOA) scores. Neck pain was evaluated using a 10-point visual analog scale (VAS). Results: The loss of height of the fused segments was less for group A than for group B (0.8 + 0.3 vs. 2.8 + 0.4 mm) (p < 0.01); also, there was a lower rate of severe subsidence (>3 mm) in group A (4 %, 1/28) than in group B (17 %, 5/30) (p < 0.01). There were no differences in the C2-C7 Cobb and Cobb of fused segments between the groups preoperatively or at final follow-up (p > 0.05), but the Cobb of fused segments immediately postoperative were significantly less for group B than for group A (p < 0.01). All patients, however, had successful fusion (100 %, each). Both groups had marked improvement in the JOA score after operation (p < 0.01), with no significant differences in the JOA recovery ratio (p > 0.05). The postoperative VAS neck pain scores for group A were significantly less than that for group B (p < 0.05); severe subsidence was correlated with neck pain. Conclusions: The new type of TMC provides comparable clinical results and fusion rates with the traditional TMC for patients undergoing single-level corpectomy. The new design TMC decreases postoperative subsidence (compared to the traditional TMC); the unique design of the new type of TMC matches the vertebral endplate morphology which appears to decrease the severity of subsidence-related neck pain in follow-up.  2013 Springer-Verlag Berlin Heidelberg.\n",
      "\n",
      "Evaluation of a new type of titanium mesh cage versus the traditional titanium mesh cage for single-level, anterior cervical corpectomy and fusion.\n",
      "[  0   0   0 ..., 153 410  38]\n"
     ]
    }
   ],
   "source": [
    "# and for example... text and the X...\n",
    "print(X_text[0])\n",
    "\n",
    "print(X[1])"
   ]
  },
  {
   "cell_type": "code",
   "execution_count": 42,
   "metadata": {
    "collapsed": true
   },
   "outputs": [],
   "source": [
    "# save it for the other notebook...\n",
    "# (you could run the CNN straight from here without this, just to make it easier\n",
    "# to run the main model on a GPU machine)\n",
    "np.savez_compressed('embase_matrices.npz', X=X, y=y, emb=kvec.embedding_weights)"
   ]
  }
 ],
 "metadata": {
  "anaconda-cloud": {},
  "kernelspec": {
   "display_name": "Python [Root]",
   "language": "python",
   "name": "Python [Root]"
  },
  "language_info": {
   "codemirror_mode": {
    "name": "ipython",
    "version": 3
   },
   "file_extension": ".py",
   "mimetype": "text/x-python",
   "name": "python",
   "nbconvert_exporter": "python",
   "pygments_lexer": "ipython3",
   "version": "3.5.2"
  }
 },
 "nbformat": 4,
 "nbformat_minor": 0
}
